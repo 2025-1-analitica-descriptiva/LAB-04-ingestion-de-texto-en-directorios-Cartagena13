{
 "cells": [
  {
   "cell_type": "code",
   "execution_count": null,
   "id": "e2b9cc30",
   "metadata": {},
   "outputs": [],
   "source": [
    "import pandas as pd\n",
    "from pathlib import Path"
   ]
  },
  {
   "cell_type": "code",
   "execution_count": 7,
   "id": "660fd322",
   "metadata": {},
   "outputs": [],
   "source": [
    "ROOT        = Path('files/input/input')          # carpeta raíz descomprimida\n",
    "TRAIN_DIR   = ROOT / 'train'                     # …/train/…\n",
    "TEST_DIR    = ROOT / 'test'                      # …/test/…\n",
    "OUTPUT_DIR  = Path('files/output')                     # carpeta donde guardaremos .csv\n",
    "OUTPUT_DIR.mkdir(exist_ok=True)                  # la crea si no existe"
   ]
  },
  {
   "cell_type": "code",
   "execution_count": 5,
   "id": "2f631a02",
   "metadata": {},
   "outputs": [],
   "source": [
    "def build_split_dataframe(split_dir: Path) -> pd.DataFrame:\n",
    "    \"\"\"\n",
    "    Recorre un directorio (train o test) y arma un DataFrame con columnas:\n",
    "    phrase (str)  ·  sentiment (str)\n",
    "    \"\"\"\n",
    "    registros = []\n",
    "\n",
    "    # rglob('*/*.txt') → todos los .txt que estén exactamente UN nivel más abajo\n",
    "    for txt_path in split_dir.rglob('*.txt'):\n",
    "        # txt_path = …/train/positive/0003.txt   →   txt_path.parent.name = 'positive'\n",
    "        sentiment = txt_path.parent.name.lower()      # garantiza minúsculas\n",
    "        phrase    = txt_path.read_text(encoding='utf-8').strip()\n",
    "\n",
    "        registros.append({'phrase': phrase, 'sentiment': sentiment})\n",
    "\n",
    "    return pd.DataFrame(registros, columns=['phrase', 'sentiment'])\n"
   ]
  },
  {
   "cell_type": "code",
   "execution_count": 6,
   "id": "15428d98",
   "metadata": {},
   "outputs": [
    {
     "name": "stdout",
     "output_type": "stream",
     "text": [
      "✅ Archivos creados en C:\\Posgrado\\adyvd\\labs\\LAB-04-ingestion-de-texto-en-directorios-Cartagena13\\output\n"
     ]
    }
   ],
   "source": [
    "# ----------- Generar DataFrames ----------------------------------------------\n",
    "train_df = build_split_dataframe(TRAIN_DIR)\n",
    "test_df  = build_split_dataframe(TEST_DIR)\n",
    "\n",
    "# ----------- Guardar en CSV ---------------------------------------------------\n",
    "train_df.to_csv(OUTPUT_DIR / 'train_dataset.csv', index=False)\n",
    "test_df.to_csv(OUTPUT_DIR / 'test_dataset.csv',  index=False)\n",
    "\n",
    "print('✅ Archivos creados en', OUTPUT_DIR.resolve())"
   ]
  }
 ],
 "metadata": {
  "kernelspec": {
   "display_name": ".venv",
   "language": "python",
   "name": "python3"
  },
  "language_info": {
   "codemirror_mode": {
    "name": "ipython",
    "version": 3
   },
   "file_extension": ".py",
   "mimetype": "text/x-python",
   "name": "python",
   "nbconvert_exporter": "python",
   "pygments_lexer": "ipython3",
   "version": "3.10.11"
  }
 },
 "nbformat": 4,
 "nbformat_minor": 5
}
